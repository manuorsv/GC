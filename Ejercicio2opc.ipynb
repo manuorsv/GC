{
 "cells": [
  {
   "cell_type": "code",
   "execution_count": 1,
   "metadata": {},
   "outputs": [],
   "source": [
    "\"\"\"\n",
    "Práctica 2 opcional\n",
    "\"\"\"\n",
    "\n",
    "import os\n",
    "import numpy as np\n",
    "import pandas as pd\n",
    "import math\n",
    "from itertools import accumulate \n",
    "\n",
    "#### Vamos al directorio de trabajo####\n",
    "os.getcwd()\n",
    "#os.chdir(ubica)\n",
    "#files = os.listdir(ruta)\n",
    "\n",
    "with open('GCOM2022_pract2_auxiliar_eng.txt', 'r',encoding=\"utf8\") as file:\n",
    "      en = file.read()"
   ]
  },
  {
   "cell_type": "code",
   "execution_count": 17,
   "metadata": {},
   "outputs": [],
   "source": [
    "def gini(distr):\n",
    "    aux = 0\n",
    "    for i in range(len(distr)):\n",
    "        aux += distr['probab'][i]/len(distr)\n",
    "    return 1 - 2*aux\n",
    "\n",
    "m\n",
    "def construct_distr(item):\n",
    "    tab = Counter(item)   \n",
    "    ##### Transformamos en formato array de los carácteres (states) y su frecuencia\n",
    "    ##### Finalmente realizamos un DataFrame con Pandas y ordenamos con 'sort'\n",
    "    tab_states = np.array(list(tab))\n",
    "    tab_weights = np.array(list(tab.values()))\n",
    "    tab_probab = tab_weights/float(np.sum(tab_weights))\n",
    "    distr = pd.DataFrame({'states': tab_states, 'probab': tab_probab})\n",
    "    distr = distr.sort_values(by='probab', ascending=True)\n",
    "    distr.index=np.arange(0,len(tab_states))\n",
    "    return distr"
   ]
  },
  {
   "cell_type": "code",
   "execution_count": 21,
   "metadata": {},
   "outputs": [
    {
     "name": "stdout",
     "output_type": "stream",
     "text": [
      "   states    probab\n",
      "0       2  0.222222\n",
      "1       1  0.333333\n",
      "2       0  0.444444\n"
     ]
    }
   ],
   "source": [
    "example = [0, 1, 0, 0, 0, 2, 1, 1, 0, 2, 0, 1, 2, 0, 2, 0, 1, 1]\n",
    "distr = construct_distr(example)\n",
    "print(distr)"
   ]
  },
  {
   "cell_type": "code",
   "execution_count": 24,
   "metadata": {},
   "outputs": [
    {
     "name": "stdout",
     "output_type": "stream",
     "text": [
      "Índice de Gini para la distribución de ejemplo: 0.33333333333333337.\n",
      "Diversidad de Hill para el ejemplo: 2.793103448275862.\n"
     ]
    }
   ],
   "source": [
    "print(\"Índice de Gini para la distribución de ejemplo: \" + str(gini(distr)) + '.')\n",
    "print(\"Diversidad de Hill para el ejemplo: \" +  str(div_hill(distr)) + '.')"
   ]
  },
  {
   "cell_type": "code",
   "execution_count": 26,
   "metadata": {},
   "outputs": [
    {
     "name": "stdout",
     "output_type": "stream",
     "text": [
      "Índice de Gini para S_English: 0.9473684210526316.\n",
      "Diversidad de Hill para S_English: 11.6537683699609.\n"
     ]
    }
   ],
   "source": [
    "construct_distr(en)\n",
    "print(\"Índice de Gini para S_English: \" + str(gini(distr_en)) + '.')\n",
    "print(\"Diversidad de Hill para S_English: \" +  str(div_hill(distr_en)) + '.')"
   ]
  }
 ],
 "metadata": {
  "kernelspec": {
   "display_name": "Python 3",
   "language": "python",
   "name": "python3"
  },
  "language_info": {
   "codemirror_mode": {
    "name": "ipython",
    "version": 3
   },
   "file_extension": ".py",
   "mimetype": "text/x-python",
   "name": "python",
   "nbconvert_exporter": "python",
   "pygments_lexer": "ipython3",
   "version": "3.8.3"
  }
 },
 "nbformat": 4,
 "nbformat_minor": 4
}
